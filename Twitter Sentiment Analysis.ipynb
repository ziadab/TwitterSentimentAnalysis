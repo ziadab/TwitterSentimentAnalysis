{
 "cells": [
  {
   "cell_type": "code",
   "execution_count": 1,
   "metadata": {},
   "outputs": [],
   "source": [
    "import tweepy\n",
    "from textblob import TextBlob\n",
    "\n",
    "consumer_key = 'GsiY9XpLDb8pzNh8LYnf76cB6'\n",
    "consumer_secret = 'XD9hoWbA18jcAsiGDKmim3QvFDUqf1X2hmpN04GlJEfdNkSl57'\n",
    "\n",
    "access_token = '988151923508379650-vzfBQQeIB66Ve7YJMyZR0psmaZWyBLJ'\n",
    "access_token_secret  = 'omEWHEi1HjGADyFbWdHO7nTCIiokrogISh5sCje6B8gqT'\n"
   ]
  },
  {
   "cell_type": "code",
   "execution_count": 2,
   "metadata": {},
   "outputs": [],
   "source": [
    "auth = tweepy.OAuthHandler(consumer_key, consumer_secret)\n",
    "auth.set_access_token(access_token, access_token_secret)\n",
    "\n",
    "api = tweepy.API(auth)"
   ]
  },
  {
   "cell_type": "code",
   "execution_count": 3,
   "metadata": {},
   "outputs": [
    {
     "name": "stdout",
     "output_type": "stream",
     "text": [
      "Put what you want to search on twitter : facebook\n"
     ]
    }
   ],
   "source": [
    "search = str(input(\"Put what you want to search on twitter : \"))\n",
    "tweets = api.search(search) "
   ]
  },
  {
   "cell_type": "code",
   "execution_count": 4,
   "metadata": {},
   "outputs": [
    {
     "name": "stdout",
     "output_type": "stream",
     "text": [
      "https://t.co/uaZWHQtsG7\n",
      "polarity : 0.0\n",
      "\n",
      "RT @SandraK93322487: 🚨Code Red 🚨 Mom with #Kittens in dire need 💔 Will be killed anytime to make space for more intakes ‼️#HighKillShelter…\n",
      "polarity : 0.09999999999999999\n",
      "\n",
      "You have been specially invited now.. Dont say u didnt hear.\n",
      "\n",
      "#Dare2DreamS5  #Dare2DreamS5Artiste\n",
      "#Dare2Dream… https://t.co/xFl32BJ05r\n",
      "polarity : 0.35714285714285715\n",
      "\n",
      "https://t.co/R0z2vECHKG\n",
      "polarity : 0.0\n",
      "\n",
      ",,a quick trip to the utterly beautiful Newstead Abbey in Nottinghamshire with a van of furniture over the weekend.… https://t.co/piznxAdG9G\n",
      "polarity : 0.5916666666666667\n",
      "\n",
      "RT @carlaruocco1: Decreto Dignità approvato in Consiglio dei Ministri! È la Waterloo del precariato. Cominciamo a restituire i diritti ai c…\n",
      "polarity : 0.0\n",
      "\n",
      "https://t.co/jyCSnIRVku\n",
      "polarity : 0.0\n",
      "\n",
      "https://t.co/hDU3XLP8T5\n",
      "polarity : 0.0\n",
      "\n",
      "RT @LaSante_net: #JeuConcours  spécial été 🏖️ !\n",
      "\n",
      "#RT &amp; #Follow @LaSante_net pour tenter de gagner un lot plein de ☀️ !\n",
      "\n",
      "Vous pouvez égaleme…\n",
      "polarity : 0.0\n",
      "\n",
      "https://t.co/rH0IeQ8Hjd\n",
      "polarity : 0.0\n",
      "\n",
      "RT @allthetruelies: wer kennt’s nicht \n",
      "\n",
      "single\n",
      "- schreibt ne 3/10 an, die korbt \n",
      "- im club frau antanzen die gibt einen nackenklatscher \n",
      "-…\n",
      "polarity : -0.07142857142857142\n",
      "\n",
      "RT @allthetruelies: wer kennt’s nicht \n",
      "\n",
      "single\n",
      "- schreibt ne 3/10 an, die korbt \n",
      "- im club frau antanzen die gibt einen nackenklatscher \n",
      "-…\n",
      "polarity : -0.07142857142857142\n",
      "\n",
      "RT @icareihelp: Thanks to EVERYONE here on twitter and even on Facebook, we were able to secure these 2 thoroughbreds that just raced 16 da…\n",
      "polarity : 0.3666666666666667\n",
      "\n",
      "Sinead Mendes Penelope Ann Büser Sunika Nattrass, Debra Aukett Carol Liechti Lidia Schember Rebekka Müller Susanne… https://t.co/5rcCbfelbX\n",
      "polarity : 0.0\n",
      "\n",
      "RT @brendaperrott2: This is another chance!  PLEASE SAVE MARVELOUS MOOKIE!  RT@ngremmy #NYC #cats scared young innocent fella MOOKIE deserv…\n",
      "polarity : 0.5333333333333333\n",
      "\n"
     ]
    }
   ],
   "source": [
    "for tweet in tweets:\n",
    "    print(tweet.text)\n",
    "    sent = TextBlob(tweet.text)\n",
    "    sentiment = sent.sentiment.polarity\n",
    "    print(\"polarity : \"+str(sentiment)+'\\n')"
   ]
  },
  {
   "cell_type": "code",
   "execution_count": null,
   "metadata": {},
   "outputs": [],
   "source": []
  }
 ],
 "metadata": {
  "kernelspec": {
   "display_name": "Python 3",
   "language": "python",
   "name": "python3"
  },
  "language_info": {
   "codemirror_mode": {
    "name": "ipython",
    "version": 3
   },
   "file_extension": ".py",
   "mimetype": "text/x-python",
   "name": "python",
   "nbconvert_exporter": "python",
   "pygments_lexer": "ipython3",
   "version": "3.6.6rc1+"
  }
 },
 "nbformat": 4,
 "nbformat_minor": 2
}
